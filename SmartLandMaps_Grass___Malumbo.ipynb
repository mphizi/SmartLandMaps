{
  "cells": [
    {
      "cell_type": "markdown",
      "metadata": {
        "id": "view-in-github",
        "colab_type": "text"
      },
      "source": [
        "<a href=\"https://colab.research.google.com/github/mphizi/SmartLandMaps/blob/main/SmartLandMaps_Grass___Malumbo.ipynb\" target=\"_parent\"><img src=\"https://colab.research.google.com/assets/colab-badge.svg\" alt=\"Open In Colab\"/></a>"
      ]
    },
    {
      "cell_type": "markdown",
      "metadata": {
        "id": "xMVZYBcdcMFq"
      },
      "source": [
        "# Install modules\n",
        "\n",
        "Execute this cell first, then restart runtime. After restart, contuniue with the next cell.\n",
        "\n",
        "*   Start installation\n",
        "*   Restart runtime when finished\n",
        "\n",
        "\n",
        "\n",
        "\n"
      ]
    },
    {
      "cell_type": "code",
      "execution_count": 1,
      "metadata": {
        "id": "kvh5OpQwaj7S",
        "colab": {
          "base_uri": "https://localhost:8080/"
        },
        "outputId": "7a2630b6-b159-446f-f78a-3777193a3639"
      },
      "outputs": [
        {
          "output_type": "stream",
          "name": "stdout",
          "text": [
            "\r0% [Working]\r            \rGet:1 http://security.ubuntu.com/ubuntu focal-security InRelease [114 kB]\n",
            "\r0% [Connecting to archive.ubuntu.com (185.125.190.36)] [1 InRelease 0 B/114 kB \r                                                                               \rGet:2 https://cloud.r-project.org/bin/linux/ubuntu focal-cran40/ InRelease [3,622 B]\n",
            "\r0% [Connecting to archive.ubuntu.com (185.125.190.36)] [1 InRelease 31.5 kB/114\r0% [Connecting to archive.ubuntu.com (185.125.190.36)] [1 InRelease 69.2 kB/114\r0% [Connecting to archive.ubuntu.com (185.125.190.36)] [Connecting to ppa.launc\r                                                                               \rHit:3 https://developer.download.nvidia.com/compute/cuda/repos/ubuntu2004/x86_64  InRelease\n",
            "\r                                                                               \r0% [Waiting for headers] [Waiting for headers]\r                                              \rGet:4 http://ppa.launchpad.net/alex-p/tesseract-ocr-devel/ubuntu focal InRelease [17.6 kB]\n",
            "Hit:5 http://archive.ubuntu.com/ubuntu focal InRelease\n",
            "Get:6 http://archive.ubuntu.com/ubuntu focal-updates InRelease [114 kB]\n",
            "Get:7 http://ppa.launchpad.net/c2d4u.team/c2d4u4.0+/ubuntu focal InRelease [18.1 kB]\n",
            "Get:8 http://security.ubuntu.com/ubuntu focal-security/restricted amd64 Packages [2,060 kB]\n",
            "Get:9 http://security.ubuntu.com/ubuntu focal-security/main amd64 Packages [2,587 kB]\n",
            "Get:10 http://security.ubuntu.com/ubuntu focal-security/universe amd64 Packages [1,025 kB]\n",
            "Get:11 http://archive.ubuntu.com/ubuntu focal-backports InRelease [108 kB]\n",
            "Hit:12 http://ppa.launchpad.net/cran/libgit2/ubuntu focal InRelease\n",
            "Get:13 http://ppa.launchpad.net/deadsnakes/ppa/ubuntu focal InRelease [18.1 kB]\n",
            "Hit:14 http://ppa.launchpad.net/graphics-drivers/ppa/ubuntu focal InRelease\n",
            "Hit:15 http://ppa.launchpad.net/ubuntugis/ppa/ubuntu focal InRelease\n",
            "Get:16 http://archive.ubuntu.com/ubuntu focal-updates/main amd64 Packages [3,065 kB]\n",
            "Get:17 http://ppa.launchpad.net/alex-p/tesseract-ocr-devel/ubuntu focal/main amd64 Packages [25.0 kB]\n",
            "Get:18 http://ppa.launchpad.net/c2d4u.team/c2d4u4.0+/ubuntu focal/main Sources [2,407 kB]\n",
            "Get:19 http://archive.ubuntu.com/ubuntu focal-updates/universe amd64 Packages [1,320 kB]\n",
            "Get:20 http://archive.ubuntu.com/ubuntu focal-updates/restricted amd64 Packages [2,198 kB]\n",
            "Get:21 http://ppa.launchpad.net/c2d4u.team/c2d4u4.0+/ubuntu focal/main amd64 Packages [1,140 kB]\n",
            "Get:22 http://ppa.launchpad.net/deadsnakes/ppa/ubuntu focal/main amd64 Packages [29.5 kB]\n",
            "Fetched 16.3 MB in 3s (5,429 kB/s)\n",
            "Reading package lists... Done\n",
            "Reading package lists... Done\n",
            "Building dependency tree       \n",
            "Reading state information... Done\n",
            "The following additional packages will be installed:\n",
            "  fonts-droid-fallback fonts-lyx fonts-noto-mono fonts-urw-base35 freeglut3\n",
            "  gdal-bin ghostscript grass-core grass-doc grass-gui javascript-common libgs9\n",
            "  libgs9-common libidn11 libijs-0.35 libimagequant0 libjbig2dec0 libjs-jquery\n",
            "  libjs-jquery-ui liblaszip8 libpdal-base12 libpdal-plugin-e57\n",
            "  libpdal-plugin-faux libpdal-plugin-hdf libpdal-plugin-i3s\n",
            "  libpdal-plugin-icebridge libpdal-plugin-pgpointcloud libpdal-plugins\n",
            "  libpdal-util12 libwxbase3.0-0v5 libwxgtk3.0-gtk3-0v5 libxxf86dga1\n",
            "  poppler-data proj-bin python-matplotlib-data python3-cycler python3-dateutil\n",
            "  python3-gdal python3-kiwisolver python3-matplotlib python3-numpy\n",
            "  python3-olefile python3-opengl python3-pil python3-pyparsing python3-sip\n",
            "  python3-wxgtk4.0 ttf-bitstream-vera x11-utils xbitmaps xterm\n",
            "Suggested packages:\n",
            "  fonts-noto fonts-freefont-otf | fonts-freefont-ttf fonts-texgyre\n",
            "  libgdal-grass ghostscript-x grass-dev e00compr avce00 gnuplot gpsbabel\n",
            "  gpstrans netpbm python3-rpy2 python3-termcolor grass-dev-doc apache2\n",
            "  | lighttpd | httpd libjs-jquery-ui-docs poppler-utils fonts-japanese-mincho\n",
            "  | fonts-ipafont-mincho fonts-japanese-gothic | fonts-ipafont-gothic\n",
            "  fonts-arphic-ukai fonts-arphic-uming fonts-nanum python-cycler-doc dvipng\n",
            "  inkscape ipython3 python-matplotlib-doc python3-cairocffi python3-gi-cairo\n",
            "  python3-gobject python3-nose python3-pyqt5 python3-scipy python3-tornado\n",
            "  texlive-extra-utils texlive-latex-extra ttf-staypuft python-numpy-doc\n",
            "  python3-pytest python3-numpy-dbg libgle3 python-pil-doc python3-pil-dbg\n",
            "  python-pyparsing-doc wx3.0-doc mesa-utils xfonts-cyrillic\n",
            "The following NEW packages will be installed:\n",
            "  fonts-droid-fallback fonts-lyx fonts-noto-mono fonts-urw-base35 freeglut3\n",
            "  gdal-bin ghostscript grass grass-core grass-doc grass-gui javascript-common\n",
            "  libgs9 libgs9-common libidn11 libijs-0.35 libimagequant0 libjbig2dec0\n",
            "  libjs-jquery libjs-jquery-ui liblaszip8 libpdal-base12 libpdal-plugin-e57\n",
            "  libpdal-plugin-faux libpdal-plugin-hdf libpdal-plugin-i3s\n",
            "  libpdal-plugin-icebridge libpdal-plugin-pgpointcloud libpdal-plugins\n",
            "  libpdal-util12 libwxbase3.0-0v5 libwxgtk3.0-gtk3-0v5 libxxf86dga1\n",
            "  poppler-data proj-bin python-matplotlib-data python3-cycler python3-dateutil\n",
            "  python3-gdal python3-kiwisolver python3-matplotlib python3-numpy\n",
            "  python3-olefile python3-opengl python3-pil python3-pyparsing python3-sip\n",
            "  python3-wxgtk4.0 ttf-bitstream-vera x11-utils xbitmaps xterm\n",
            "0 upgraded, 52 newly installed, 0 to remove and 32 not upgraded.\n",
            "Need to get 87.9 MB of archives.\n",
            "After this operation, 272 MB of additional disk space will be used.\n",
            "Get:1 http://archive.ubuntu.com/ubuntu focal/main amd64 fonts-droid-fallback all 1:6.0.1r16-1.1 [1,805 kB]\n",
            "Get:2 http://ppa.launchpad.net/ubuntugis/ppa/ubuntu focal/main amd64 python3-gdal amd64 3.3.2+dfsg-2~focal2 [1,026 kB]\n",
            "Get:3 http://ppa.launchpad.net/ubuntugis/ppa/ubuntu focal/main amd64 gdal-bin amd64 3.3.2+dfsg-2~focal2 [511 kB]\n",
            "Get:4 http://ppa.launchpad.net/ubuntugis/ppa/ubuntu focal/main amd64 grass-doc all 7.8.6-1~focal1 [34.9 MB]\n",
            "Get:5 http://ppa.launchpad.net/ubuntugis/ppa/ubuntu focal/main amd64 libpdal-util12 amd64 2.2.0+ds-1~focal2 [73.4 kB]\n",
            "Get:6 http://ppa.launchpad.net/ubuntugis/ppa/ubuntu focal/main amd64 libpdal-base12 amd64 2.2.0+ds-1~focal2 [1,926 kB]\n",
            "Get:7 http://ppa.launchpad.net/ubuntugis/ppa/ubuntu focal/main amd64 grass-core amd64 7.8.6-1~focal1 [6,135 kB]\n",
            "Get:8 http://ppa.launchpad.net/ubuntugis/ppa/ubuntu focal/main amd64 grass-gui amd64 7.8.6-1~focal1 [3,223 kB]\n",
            "Get:9 http://ppa.launchpad.net/ubuntugis/ppa/ubuntu focal/main amd64 grass all 7.8.6-1~focal1 [25.2 kB]\n",
            "Get:10 http://ppa.launchpad.net/ubuntugis/ppa/ubuntu focal/main amd64 libpdal-plugin-e57 amd64 2.2.0+ds-1~focal2 [352 kB]\n",
            "Get:11 http://ppa.launchpad.net/ubuntugis/ppa/ubuntu focal/main amd64 libpdal-plugin-faux amd64 2.2.0+ds-1~focal2 [32.2 kB]\n",
            "Get:12 http://ppa.launchpad.net/ubuntugis/ppa/ubuntu focal/main amd64 libpdal-plugin-hdf amd64 2.2.0+ds-1~focal2 [94.7 kB]\n",
            "Get:13 http://ppa.launchpad.net/ubuntugis/ppa/ubuntu focal/main amd64 libpdal-plugin-i3s amd64 2.2.0+ds-1~focal2 [249 kB]\n",
            "Get:14 http://ppa.launchpad.net/ubuntugis/ppa/ubuntu focal/main amd64 libpdal-plugin-icebridge amd64 2.2.0+ds-1~focal2 [47.4 kB]\n",
            "Get:15 http://ppa.launchpad.net/ubuntugis/ppa/ubuntu focal/main amd64 libpdal-plugin-pgpointcloud amd64 2.2.0+ds-1~focal2 [80.1 kB]\n",
            "Get:16 http://archive.ubuntu.com/ubuntu focal/main amd64 poppler-data all 0.4.9-2 [1,475 kB]\n",
            "Get:17 http://ppa.launchpad.net/ubuntugis/ppa/ubuntu focal/main amd64 libpdal-plugins amd64 2.2.0+ds-1~focal2 [17.3 kB]\n",
            "Get:18 http://archive.ubuntu.com/ubuntu focal/universe amd64 fonts-lyx all 2.3.4.2-2 [154 kB]\n",
            "Get:19 http://archive.ubuntu.com/ubuntu focal-updates/main amd64 fonts-noto-mono all 20200323-1build1~ubuntu20.04.1 [80.6 kB]\n",
            "Get:20 http://archive.ubuntu.com/ubuntu focal/main amd64 fonts-urw-base35 all 20170801.1-3 [6,333 kB]\n",
            "Get:21 http://archive.ubuntu.com/ubuntu focal/universe amd64 freeglut3 amd64 2.8.1-3 [73.6 kB]\n",
            "Get:22 http://archive.ubuntu.com/ubuntu focal-updates/main amd64 python3-numpy amd64 1:1.17.4-5ubuntu3.1 [2,724 kB]\n",
            "Get:23 http://archive.ubuntu.com/ubuntu focal-updates/main amd64 libgs9-common all 9.50~dfsg-5ubuntu4.6 [681 kB]\n",
            "Get:24 http://ppa.launchpad.net/ubuntugis/ppa/ubuntu focal/main amd64 proj-bin amd64 7.2.1-1~focal0 [170 kB]\n",
            "Get:25 http://archive.ubuntu.com/ubuntu focal/main amd64 libidn11 amd64 1.33-2.2ubuntu2 [46.2 kB]\n",
            "Get:26 http://archive.ubuntu.com/ubuntu focal/main amd64 libijs-0.35 amd64 0.35-15 [15.7 kB]\n",
            "Get:27 http://archive.ubuntu.com/ubuntu focal/main amd64 libjbig2dec0 amd64 0.18-1ubuntu1 [60.0 kB]\n",
            "Get:28 http://archive.ubuntu.com/ubuntu focal-updates/main amd64 libgs9 amd64 9.50~dfsg-5ubuntu4.6 [2,173 kB]\n",
            "Get:29 http://archive.ubuntu.com/ubuntu focal-updates/main amd64 ghostscript amd64 9.50~dfsg-5ubuntu4.6 [51.8 kB]\n",
            "Get:30 http://archive.ubuntu.com/ubuntu focal/main amd64 libjs-jquery all 3.3.1~dfsg-3 [329 kB]\n",
            "Get:31 http://archive.ubuntu.com/ubuntu focal/universe amd64 liblaszip8 amd64 3.4.3-1build1 [125 kB]\n",
            "Get:32 http://archive.ubuntu.com/ubuntu focal/universe amd64 python3-opengl all 3.1.0+dfsg-2build1 [486 kB]\n",
            "Get:33 http://archive.ubuntu.com/ubuntu focal/main amd64 libimagequant0 amd64 2.12.2-1.1 [31.4 kB]\n",
            "Get:34 http://archive.ubuntu.com/ubuntu focal-updates/main amd64 python3-pil amd64 7.0.0-4ubuntu0.7 [366 kB]\n",
            "Get:35 http://archive.ubuntu.com/ubuntu focal/universe amd64 libwxbase3.0-0v5 amd64 3.0.4+dfsg-15build1 [982 kB]\n",
            "Get:36 http://archive.ubuntu.com/ubuntu focal/universe amd64 libwxgtk3.0-gtk3-0v5 amd64 3.0.4+dfsg-15build1 [4,359 kB]\n",
            "Get:37 http://archive.ubuntu.com/ubuntu focal/universe amd64 python3-sip amd64 4.19.21+dfsg-1build1 [87.9 kB]\n",
            "Get:38 http://archive.ubuntu.com/ubuntu focal/universe amd64 python3-wxgtk4.0 amd64 4.0.7+dfsg-2build1 [6,569 kB]\n",
            "Get:39 http://archive.ubuntu.com/ubuntu focal/main amd64 xbitmaps all 1.1.1-2 [28.1 kB]\n",
            "Get:40 http://archive.ubuntu.com/ubuntu focal-updates/universe amd64 xterm amd64 353-1ubuntu1.20.04.2 [765 kB]\n",
            "Get:41 http://archive.ubuntu.com/ubuntu focal/main amd64 javascript-common all 11 [6,066 B]\n",
            "Get:42 http://archive.ubuntu.com/ubuntu focal/universe amd64 libjs-jquery-ui all 1.12.1+dfsg-5 [232 kB]\n",
            "Get:43 http://archive.ubuntu.com/ubuntu focal/main amd64 libxxf86dga1 amd64 2:1.1.5-0ubuntu1 [12.0 kB]\n",
            "Get:44 http://archive.ubuntu.com/ubuntu focal/universe amd64 ttf-bitstream-vera all 1.10-8 [352 kB]\n",
            "Get:45 http://archive.ubuntu.com/ubuntu focal/universe amd64 python-matplotlib-data all 3.1.2-1ubuntu4 [3,788 kB]\n",
            "Get:46 http://archive.ubuntu.com/ubuntu focal/universe amd64 python3-cycler all 0.10.0-3 [8,132 B]\n",
            "Get:47 http://archive.ubuntu.com/ubuntu focal/main amd64 python3-dateutil all 2.7.3-3ubuntu1 [63.3 kB]\n",
            "Get:48 http://archive.ubuntu.com/ubuntu focal/universe amd64 python3-kiwisolver amd64 1.0.1-3build1 [61.3 kB]\n",
            "Get:49 http://archive.ubuntu.com/ubuntu focal/main amd64 python3-pyparsing all 2.4.6-1 [61.3 kB]\n",
            "Get:50 http://archive.ubuntu.com/ubuntu focal/universe amd64 python3-matplotlib amd64 3.1.2-1ubuntu4 [4,459 kB]\n",
            "Get:51 http://archive.ubuntu.com/ubuntu focal/main amd64 python3-olefile all 0.46-2 [33.7 kB]\n",
            "Get:52 http://archive.ubuntu.com/ubuntu focal/main amd64 x11-utils amd64 7.7+5 [199 kB]\n",
            "Fetched 87.9 MB in 9s (9,519 kB/s)\n",
            "Extracting templates from packages: 100%\n",
            "Selecting previously unselected package fonts-droid-fallback.\n",
            "(Reading database ... 128285 files and directories currently installed.)\n",
            "Preparing to unpack .../00-fonts-droid-fallback_1%3a6.0.1r16-1.1_all.deb ...\n",
            "Unpacking fonts-droid-fallback (1:6.0.1r16-1.1) ...\n",
            "Selecting previously unselected package poppler-data.\n",
            "Preparing to unpack .../01-poppler-data_0.4.9-2_all.deb ...\n",
            "Unpacking poppler-data (0.4.9-2) ...\n",
            "Selecting previously unselected package fonts-lyx.\n",
            "Preparing to unpack .../02-fonts-lyx_2.3.4.2-2_all.deb ...\n",
            "Unpacking fonts-lyx (2.3.4.2-2) ...\n",
            "Selecting previously unselected package fonts-noto-mono.\n",
            "Preparing to unpack .../03-fonts-noto-mono_20200323-1build1~ubuntu20.04.1_all.deb ...\n",
            "Unpacking fonts-noto-mono (20200323-1build1~ubuntu20.04.1) ...\n",
            "Selecting previously unselected package fonts-urw-base35.\n",
            "Preparing to unpack .../04-fonts-urw-base35_20170801.1-3_all.deb ...\n",
            "Unpacking fonts-urw-base35 (20170801.1-3) ...\n",
            "Selecting previously unselected package freeglut3:amd64.\n",
            "Preparing to unpack .../05-freeglut3_2.8.1-3_amd64.deb ...\n",
            "Unpacking freeglut3:amd64 (2.8.1-3) ...\n",
            "Selecting previously unselected package python3-numpy.\n",
            "Preparing to unpack .../06-python3-numpy_1%3a1.17.4-5ubuntu3.1_amd64.deb ...\n",
            "Unpacking python3-numpy (1:1.17.4-5ubuntu3.1) ...\n",
            "Selecting previously unselected package python3-gdal.\n",
            "Preparing to unpack .../07-python3-gdal_3.3.2+dfsg-2~focal2_amd64.deb ...\n",
            "Unpacking python3-gdal (3.3.2+dfsg-2~focal2) ...\n",
            "Selecting previously unselected package gdal-bin.\n",
            "Preparing to unpack .../08-gdal-bin_3.3.2+dfsg-2~focal2_amd64.deb ...\n",
            "Unpacking gdal-bin (3.3.2+dfsg-2~focal2) ...\n",
            "Selecting previously unselected package libgs9-common.\n",
            "Preparing to unpack .../09-libgs9-common_9.50~dfsg-5ubuntu4.6_all.deb ...\n",
            "Unpacking libgs9-common (9.50~dfsg-5ubuntu4.6) ...\n",
            "Selecting previously unselected package libidn11:amd64.\n",
            "Preparing to unpack .../10-libidn11_1.33-2.2ubuntu2_amd64.deb ...\n",
            "Unpacking libidn11:amd64 (1.33-2.2ubuntu2) ...\n",
            "Selecting previously unselected package libijs-0.35:amd64.\n",
            "Preparing to unpack .../11-libijs-0.35_0.35-15_amd64.deb ...\n",
            "Unpacking libijs-0.35:amd64 (0.35-15) ...\n",
            "Selecting previously unselected package libjbig2dec0:amd64.\n",
            "Preparing to unpack .../12-libjbig2dec0_0.18-1ubuntu1_amd64.deb ...\n",
            "Unpacking libjbig2dec0:amd64 (0.18-1ubuntu1) ...\n",
            "Selecting previously unselected package libgs9:amd64.\n",
            "Preparing to unpack .../13-libgs9_9.50~dfsg-5ubuntu4.6_amd64.deb ...\n",
            "Unpacking libgs9:amd64 (9.50~dfsg-5ubuntu4.6) ...\n",
            "Selecting previously unselected package ghostscript.\n",
            "Preparing to unpack .../14-ghostscript_9.50~dfsg-5ubuntu4.6_amd64.deb ...\n",
            "Unpacking ghostscript (9.50~dfsg-5ubuntu4.6) ...\n",
            "Selecting previously unselected package libjs-jquery.\n",
            "Preparing to unpack .../15-libjs-jquery_3.3.1~dfsg-3_all.deb ...\n",
            "Unpacking libjs-jquery (3.3.1~dfsg-3) ...\n",
            "Selecting previously unselected package grass-doc.\n",
            "Preparing to unpack .../16-grass-doc_7.8.6-1~focal1_all.deb ...\n",
            "Unpacking grass-doc (7.8.6-1~focal1) ...\n",
            "Selecting previously unselected package liblaszip8:amd64.\n",
            "Preparing to unpack .../17-liblaszip8_3.4.3-1build1_amd64.deb ...\n",
            "Unpacking liblaszip8:amd64 (3.4.3-1build1) ...\n",
            "Selecting previously unselected package libpdal-util12.\n",
            "Preparing to unpack .../18-libpdal-util12_2.2.0+ds-1~focal2_amd64.deb ...\n",
            "Unpacking libpdal-util12 (2.2.0+ds-1~focal2) ...\n",
            "Selecting previously unselected package libpdal-base12.\n",
            "Preparing to unpack .../19-libpdal-base12_2.2.0+ds-1~focal2_amd64.deb ...\n",
            "Unpacking libpdal-base12 (2.2.0+ds-1~focal2) ...\n",
            "Selecting previously unselected package grass-core.\n",
            "Preparing to unpack .../20-grass-core_7.8.6-1~focal1_amd64.deb ...\n",
            "Unpacking grass-core (7.8.6-1~focal1) ...\n",
            "Selecting previously unselected package python3-opengl.\n",
            "Preparing to unpack .../21-python3-opengl_3.1.0+dfsg-2build1_all.deb ...\n",
            "Unpacking python3-opengl (3.1.0+dfsg-2build1) ...\n",
            "Selecting previously unselected package libimagequant0:amd64.\n",
            "Preparing to unpack .../22-libimagequant0_2.12.2-1.1_amd64.deb ...\n",
            "Unpacking libimagequant0:amd64 (2.12.2-1.1) ...\n",
            "Selecting previously unselected package python3-pil:amd64.\n",
            "Preparing to unpack .../23-python3-pil_7.0.0-4ubuntu0.7_amd64.deb ...\n",
            "Unpacking python3-pil:amd64 (7.0.0-4ubuntu0.7) ...\n",
            "Selecting previously unselected package libwxbase3.0-0v5:amd64.\n",
            "Preparing to unpack .../24-libwxbase3.0-0v5_3.0.4+dfsg-15build1_amd64.deb ...\n",
            "Unpacking libwxbase3.0-0v5:amd64 (3.0.4+dfsg-15build1) ...\n",
            "Selecting previously unselected package libwxgtk3.0-gtk3-0v5:amd64.\n",
            "Preparing to unpack .../25-libwxgtk3.0-gtk3-0v5_3.0.4+dfsg-15build1_amd64.deb ...\n",
            "Unpacking libwxgtk3.0-gtk3-0v5:amd64 (3.0.4+dfsg-15build1) ...\n",
            "Selecting previously unselected package python3-sip.\n",
            "Preparing to unpack .../26-python3-sip_4.19.21+dfsg-1build1_amd64.deb ...\n",
            "Unpacking python3-sip (4.19.21+dfsg-1build1) ...\n",
            "Selecting previously unselected package python3-wxgtk4.0.\n",
            "Preparing to unpack .../27-python3-wxgtk4.0_4.0.7+dfsg-2build1_amd64.deb ...\n",
            "Unpacking python3-wxgtk4.0 (4.0.7+dfsg-2build1) ...\n",
            "Selecting previously unselected package xbitmaps.\n",
            "Preparing to unpack .../28-xbitmaps_1.1.1-2_all.deb ...\n",
            "Unpacking xbitmaps (1.1.1-2) ...\n",
            "Selecting previously unselected package xterm.\n",
            "Preparing to unpack .../29-xterm_353-1ubuntu1.20.04.2_amd64.deb ...\n",
            "Unpacking xterm (353-1ubuntu1.20.04.2) ...\n",
            "Selecting previously unselected package grass-gui.\n",
            "Preparing to unpack .../30-grass-gui_7.8.6-1~focal1_amd64.deb ...\n",
            "Unpacking grass-gui (7.8.6-1~focal1) ...\n",
            "Selecting previously unselected package grass.\n",
            "Preparing to unpack .../31-grass_7.8.6-1~focal1_all.deb ...\n",
            "Unpacking grass (7.8.6-1~focal1) ...\n",
            "Selecting previously unselected package javascript-common.\n",
            "Preparing to unpack .../32-javascript-common_11_all.deb ...\n",
            "Unpacking javascript-common (11) ...\n",
            "Selecting previously unselected package libjs-jquery-ui.\n",
            "Preparing to unpack .../33-libjs-jquery-ui_1.12.1+dfsg-5_all.deb ...\n",
            "Unpacking libjs-jquery-ui (1.12.1+dfsg-5) ...\n",
            "Selecting previously unselected package libpdal-plugin-e57.\n",
            "Preparing to unpack .../34-libpdal-plugin-e57_2.2.0+ds-1~focal2_amd64.deb ...\n",
            "Unpacking libpdal-plugin-e57 (2.2.0+ds-1~focal2) ...\n",
            "Selecting previously unselected package libpdal-plugin-faux.\n",
            "Preparing to unpack .../35-libpdal-plugin-faux_2.2.0+ds-1~focal2_amd64.deb ...\n",
            "Unpacking libpdal-plugin-faux (2.2.0+ds-1~focal2) ...\n",
            "Selecting previously unselected package libpdal-plugin-hdf.\n",
            "Preparing to unpack .../36-libpdal-plugin-hdf_2.2.0+ds-1~focal2_amd64.deb ...\n",
            "Unpacking libpdal-plugin-hdf (2.2.0+ds-1~focal2) ...\n",
            "Selecting previously unselected package libpdal-plugin-i3s.\n",
            "Preparing to unpack .../37-libpdal-plugin-i3s_2.2.0+ds-1~focal2_amd64.deb ...\n",
            "Unpacking libpdal-plugin-i3s (2.2.0+ds-1~focal2) ...\n",
            "Selecting previously unselected package libpdal-plugin-icebridge.\n",
            "Preparing to unpack .../38-libpdal-plugin-icebridge_2.2.0+ds-1~focal2_amd64.deb ...\n",
            "Unpacking libpdal-plugin-icebridge (2.2.0+ds-1~focal2) ...\n",
            "Selecting previously unselected package libpdal-plugin-pgpointcloud.\n",
            "Preparing to unpack .../39-libpdal-plugin-pgpointcloud_2.2.0+ds-1~focal2_amd64.deb ...\n",
            "Unpacking libpdal-plugin-pgpointcloud (2.2.0+ds-1~focal2) ...\n",
            "Selecting previously unselected package libpdal-plugins.\n",
            "Preparing to unpack .../40-libpdal-plugins_2.2.0+ds-1~focal2_amd64.deb ...\n",
            "Unpacking libpdal-plugins (2.2.0+ds-1~focal2) ...\n",
            "Selecting previously unselected package libxxf86dga1:amd64.\n",
            "Preparing to unpack .../41-libxxf86dga1_2%3a1.1.5-0ubuntu1_amd64.deb ...\n",
            "Unpacking libxxf86dga1:amd64 (2:1.1.5-0ubuntu1) ...\n",
            "Selecting previously unselected package proj-bin.\n",
            "Preparing to unpack .../42-proj-bin_7.2.1-1~focal0_amd64.deb ...\n",
            "Unpacking proj-bin (7.2.1-1~focal0) ...\n",
            "Selecting previously unselected package ttf-bitstream-vera.\n",
            "Preparing to unpack .../43-ttf-bitstream-vera_1.10-8_all.deb ...\n",
            "Unpacking ttf-bitstream-vera (1.10-8) ...\n",
            "Selecting previously unselected package python-matplotlib-data.\n",
            "Preparing to unpack .../44-python-matplotlib-data_3.1.2-1ubuntu4_all.deb ...\n",
            "Unpacking python-matplotlib-data (3.1.2-1ubuntu4) ...\n",
            "Selecting previously unselected package python3-cycler.\n",
            "Preparing to unpack .../45-python3-cycler_0.10.0-3_all.deb ...\n",
            "Unpacking python3-cycler (0.10.0-3) ...\n",
            "Selecting previously unselected package python3-dateutil.\n",
            "Preparing to unpack .../46-python3-dateutil_2.7.3-3ubuntu1_all.deb ...\n",
            "Unpacking python3-dateutil (2.7.3-3ubuntu1) ...\n",
            "Selecting previously unselected package python3-kiwisolver.\n",
            "Preparing to unpack .../47-python3-kiwisolver_1.0.1-3build1_amd64.deb ...\n",
            "Unpacking python3-kiwisolver (1.0.1-3build1) ...\n",
            "Selecting previously unselected package python3-pyparsing.\n",
            "Preparing to unpack .../48-python3-pyparsing_2.4.6-1_all.deb ...\n",
            "Unpacking python3-pyparsing (2.4.6-1) ...\n",
            "Selecting previously unselected package python3-matplotlib.\n",
            "Preparing to unpack .../49-python3-matplotlib_3.1.2-1ubuntu4_amd64.deb ...\n",
            "Unpacking python3-matplotlib (3.1.2-1ubuntu4) ...\n",
            "Selecting previously unselected package python3-olefile.\n",
            "Preparing to unpack .../50-python3-olefile_0.46-2_all.deb ...\n",
            "Unpacking python3-olefile (0.46-2) ...\n",
            "Selecting previously unselected package x11-utils.\n",
            "Preparing to unpack .../51-x11-utils_7.7+5_amd64.deb ...\n",
            "Unpacking x11-utils (7.7+5) ...\n",
            "Setting up javascript-common (11) ...\n",
            "Setting up ttf-bitstream-vera (1.10-8) ...\n",
            "Setting up freeglut3:amd64 (2.8.1-3) ...\n",
            "Setting up fonts-noto-mono (20200323-1build1~ubuntu20.04.1) ...\n",
            "Setting up fonts-lyx (2.3.4.2-2) ...\n",
            "Setting up libijs-0.35:amd64 (0.35-15) ...\n",
            "Setting up python3-olefile (0.46-2) ...\n",
            "Setting up libxxf86dga1:amd64 (2:1.1.5-0ubuntu1) ...\n",
            "Setting up proj-bin (7.2.1-1~focal0) ...\n",
            "Setting up fonts-urw-base35 (20170801.1-3) ...\n",
            "Setting up python3-opengl (3.1.0+dfsg-2build1) ...\n",
            "Setting up poppler-data (0.4.9-2) ...\n",
            "Setting up python3-pyparsing (2.4.6-1) ...\n",
            "Setting up libjbig2dec0:amd64 (0.18-1ubuntu1) ...\n",
            "Setting up libidn11:amd64 (1.33-2.2ubuntu2) ...\n",
            "Setting up libpdal-util12 (2.2.0+ds-1~focal2) ...\n",
            "Setting up python3-cycler (0.10.0-3) ...\n",
            "Setting up libimagequant0:amd64 (2.12.2-1.1) ...\n",
            "Setting up python3-kiwisolver (1.0.1-3build1) ...\n",
            "Setting up python3-numpy (1:1.17.4-5ubuntu3.1) ...\n",
            "Setting up liblaszip8:amd64 (3.4.3-1build1) ...\n",
            "Setting up x11-utils (7.7+5) ...\n",
            "Setting up python3-dateutil (2.7.3-3ubuntu1) ...\n",
            "Setting up libwxbase3.0-0v5:amd64 (3.0.4+dfsg-15build1) ...\n",
            "Setting up fonts-droid-fallback (1:6.0.1r16-1.1) ...\n",
            "Setting up libjs-jquery (3.3.1~dfsg-3) ...\n",
            "Setting up python-matplotlib-data (3.1.2-1ubuntu4) ...\n",
            "Setting up python3-gdal (3.3.2+dfsg-2~focal2) ...\n",
            "Setting up xbitmaps (1.1.1-2) ...\n",
            "Setting up python3-sip (4.19.21+dfsg-1build1) ...\n",
            "Setting up libgs9-common (9.50~dfsg-5ubuntu4.6) ...\n",
            "Setting up libgs9:amd64 (9.50~dfsg-5ubuntu4.6) ...\n",
            "Setting up ghostscript (9.50~dfsg-5ubuntu4.6) ...\n",
            "Setting up libwxgtk3.0-gtk3-0v5:amd64 (3.0.4+dfsg-15build1) ...\n",
            "Setting up python3-pil:amd64 (7.0.0-4ubuntu0.7) ...\n",
            "Setting up libpdal-base12 (2.2.0+ds-1~focal2) ...\n",
            "Setting up libjs-jquery-ui (1.12.1+dfsg-5) ...\n",
            "Setting up gdal-bin (3.3.2+dfsg-2~focal2) ...\n",
            "Setting up grass-doc (7.8.6-1~focal1) ...\n",
            "Setting up libpdal-plugin-e57 (2.2.0+ds-1~focal2) ...\n",
            "Setting up libpdal-plugin-i3s (2.2.0+ds-1~focal2) ...\n",
            "Setting up libpdal-plugin-pgpointcloud (2.2.0+ds-1~focal2) ...\n",
            "Setting up libpdal-plugin-icebridge (2.2.0+ds-1~focal2) ...\n",
            "Setting up xterm (353-1ubuntu1.20.04.2) ...\n",
            "update-alternatives: using /usr/bin/xterm to provide /usr/bin/x-terminal-emulator (x-terminal-emulator) in auto mode\n",
            "update-alternatives: using /usr/bin/lxterm to provide /usr/bin/x-terminal-emulator (x-terminal-emulator) in auto mode\n",
            "Setting up libpdal-plugin-hdf (2.2.0+ds-1~focal2) ...\n",
            "Setting up python3-matplotlib (3.1.2-1ubuntu4) ...\n",
            "Setting up libpdal-plugin-faux (2.2.0+ds-1~focal2) ...\n",
            "Setting up grass-core (7.8.6-1~focal1) ...\n",
            "Setting up libpdal-plugins (2.2.0+ds-1~focal2) ...\n",
            "Setting up python3-wxgtk4.0 (4.0.7+dfsg-2build1) ...\n",
            "Setting up grass-gui (7.8.6-1~focal1) ...\n",
            "Setting up grass (7.8.6-1~focal1) ...\n",
            "Processing triggers for libc-bin (2.31-0ubuntu9.9) ...\n",
            "Processing triggers for man-db (2.9.1-1) ...\n",
            "Processing triggers for fontconfig (2.13.1-2ubuntu3) ...\n",
            "Processing triggers for mime-support (3.64ubuntu1) ...\n",
            "Processing triggers for hicolor-icon-theme (0.17-2) ...\n",
            "Reading package lists... Done\n",
            "Building dependency tree       \n",
            "Reading state information... Done\n",
            "The following additional packages will be installed:\n",
            "  libspatialindex-c6 libspatialindex6\n",
            "The following NEW packages will be installed:\n",
            "  libspatialindex-c6 libspatialindex-dev libspatialindex6\n",
            "0 upgraded, 3 newly installed, 0 to remove and 32 not upgraded.\n",
            "Need to get 340 kB of archives.\n",
            "After this operation, 1,538 kB of additional disk space will be used.\n",
            "Get:1 http://archive.ubuntu.com/ubuntu focal/universe amd64 libspatialindex6 amd64 1.9.3-1build1 [266 kB]\n",
            "Get:2 http://archive.ubuntu.com/ubuntu focal/universe amd64 libspatialindex-c6 amd64 1.9.3-1build1 [58.3 kB]\n",
            "Get:3 http://archive.ubuntu.com/ubuntu focal/universe amd64 libspatialindex-dev amd64 1.9.3-1build1 [16.0 kB]\n",
            "Fetched 340 kB in 1s (547 kB/s)\n",
            "Selecting previously unselected package libspatialindex6:amd64.\n",
            "(Reading database ... 138645 files and directories currently installed.)\n",
            "Preparing to unpack .../libspatialindex6_1.9.3-1build1_amd64.deb ...\n",
            "Unpacking libspatialindex6:amd64 (1.9.3-1build1) ...\n",
            "Selecting previously unselected package libspatialindex-c6:amd64.\n",
            "Preparing to unpack .../libspatialindex-c6_1.9.3-1build1_amd64.deb ...\n",
            "Unpacking libspatialindex-c6:amd64 (1.9.3-1build1) ...\n",
            "Selecting previously unselected package libspatialindex-dev:amd64.\n",
            "Preparing to unpack .../libspatialindex-dev_1.9.3-1build1_amd64.deb ...\n",
            "Unpacking libspatialindex-dev:amd64 (1.9.3-1build1) ...\n",
            "Setting up libspatialindex6:amd64 (1.9.3-1build1) ...\n",
            "Setting up libspatialindex-c6:amd64 (1.9.3-1build1) ...\n",
            "Setting up libspatialindex-dev:amd64 (1.9.3-1build1) ...\n",
            "Processing triggers for libc-bin (2.31-0ubuntu9.9) ...\n",
            "Looking in indexes: https://pypi.org/simple, https://us-python.pkg.dev/colab-wheels/public/simple/\n",
            "Collecting rtree\n",
            "  Downloading Rtree-1.0.1-cp39-cp39-manylinux_2_17_x86_64.manylinux2014_x86_64.whl (1.0 MB)\n",
            "\u001b[2K     \u001b[90m━━━━━━━━━━━━━━━━━━━━━━━━━━━━━━━━━━━━━━━━\u001b[0m \u001b[32m1.0/1.0 MB\u001b[0m \u001b[31m32.3 MB/s\u001b[0m eta \u001b[36m0:00:00\u001b[0m\n",
            "\u001b[?25hInstalling collected packages: rtree\n",
            "Successfully installed rtree-1.0.1\n",
            "Looking in indexes: https://pypi.org/simple, https://us-python.pkg.dev/colab-wheels/public/simple/\n",
            "Collecting geopandas\n",
            "  Downloading geopandas-0.12.2-py3-none-any.whl (1.1 MB)\n",
            "\u001b[2K     \u001b[90m━━━━━━━━━━━━━━━━━━━━━━━━━━━━━━━━━━━━━━━━\u001b[0m \u001b[32m1.1/1.1 MB\u001b[0m \u001b[31m55.2 MB/s\u001b[0m eta \u001b[36m0:00:00\u001b[0m\n",
            "\u001b[?25hRequirement already satisfied: pandas>=1.0.0 in /usr/local/lib/python3.9/dist-packages (from geopandas) (1.4.4)\n",
            "Requirement already satisfied: packaging in /usr/local/lib/python3.9/dist-packages (from geopandas) (23.0)\n",
            "Requirement already satisfied: shapely>=1.7 in /usr/local/lib/python3.9/dist-packages (from geopandas) (2.0.1)\n",
            "Collecting pyproj>=2.6.1.post1\n",
            "  Downloading pyproj-3.4.1-cp39-cp39-manylinux_2_17_x86_64.manylinux2014_x86_64.whl (7.7 MB)\n",
            "\u001b[2K     \u001b[90m━━━━━━━━━━━━━━━━━━━━━━━━━━━━━━━━━━━━━━━━\u001b[0m \u001b[32m7.7/7.7 MB\u001b[0m \u001b[31m107.8 MB/s\u001b[0m eta \u001b[36m0:00:00\u001b[0m\n",
            "\u001b[?25hCollecting fiona>=1.8\n",
            "  Downloading Fiona-1.9.2-cp39-cp39-manylinux_2_17_x86_64.manylinux2014_x86_64.whl (16.1 MB)\n",
            "\u001b[2K     \u001b[90m━━━━━━━━━━━━━━━━━━━━━━━━━━━━━━━━━━━━━━━\u001b[0m \u001b[32m16.1/16.1 MB\u001b[0m \u001b[31m102.2 MB/s\u001b[0m eta \u001b[36m0:00:00\u001b[0m\n",
            "\u001b[?25hRequirement already satisfied: attrs>=19.2.0 in /usr/local/lib/python3.9/dist-packages (from fiona>=1.8->geopandas) (22.2.0)\n",
            "Requirement already satisfied: click~=8.0 in /usr/local/lib/python3.9/dist-packages (from fiona>=1.8->geopandas) (8.1.3)\n",
            "Collecting cligj>=0.5\n",
            "  Downloading cligj-0.7.2-py3-none-any.whl (7.1 kB)\n",
            "Requirement already satisfied: importlib-metadata in /usr/local/lib/python3.9/dist-packages (from fiona>=1.8->geopandas) (6.1.0)\n",
            "Collecting munch>=2.3.2\n",
            "  Downloading munch-2.5.0-py2.py3-none-any.whl (10 kB)\n",
            "Collecting click-plugins>=1.0\n",
            "  Downloading click_plugins-1.1.1-py2.py3-none-any.whl (7.5 kB)\n",
            "Requirement already satisfied: certifi in /usr/local/lib/python3.9/dist-packages (from fiona>=1.8->geopandas) (2022.12.7)\n",
            "Requirement already satisfied: numpy>=1.18.5 in /usr/local/lib/python3.9/dist-packages (from pandas>=1.0.0->geopandas) (1.22.4)\n",
            "Requirement already satisfied: python-dateutil>=2.8.1 in /usr/local/lib/python3.9/dist-packages (from pandas>=1.0.0->geopandas) (2.8.2)\n",
            "Requirement already satisfied: pytz>=2020.1 in /usr/local/lib/python3.9/dist-packages (from pandas>=1.0.0->geopandas) (2022.7.1)\n",
            "Requirement already satisfied: six in /usr/local/lib/python3.9/dist-packages (from munch>=2.3.2->fiona>=1.8->geopandas) (1.16.0)\n",
            "Requirement already satisfied: zipp>=0.5 in /usr/local/lib/python3.9/dist-packages (from importlib-metadata->fiona>=1.8->geopandas) (3.15.0)\n",
            "Installing collected packages: pyproj, munch, cligj, click-plugins, fiona, geopandas\n",
            "Successfully installed click-plugins-1.1.1 cligj-0.7.2 fiona-1.9.2 geopandas-0.12.2 munch-2.5.0 pyproj-3.4.1\n",
            "Reading package lists... Done\n",
            "Building dependency tree       \n",
            "Reading state information... Done\n",
            "The following additional packages will be installed:\n",
            "  libtesseract5 tesseract-ocr-eng tesseract-ocr-osd\n",
            "The following NEW packages will be installed:\n",
            "  libtesseract5 tesseract-ocr tesseract-ocr-eng tesseract-ocr-osd\n",
            "0 upgraded, 4 newly installed, 0 to remove and 32 not upgraded.\n",
            "Need to get 6,234 kB of archives.\n",
            "After this operation, 20.3 MB of additional disk space will be used.\n",
            "Get:1 http://ppa.launchpad.net/alex-p/tesseract-ocr-devel/ubuntu focal/main amd64 libtesseract5 amd64 5.3.0+git6190-19fe1a67-1ppa1~focal1 [1,240 kB]\n",
            "Get:2 http://ppa.launchpad.net/alex-p/tesseract-ocr-devel/ubuntu focal/main amd64 tesseract-ocr-eng all 1:5.0.0~git39-6572757-2ppa1~focal1 [1,592 kB]\n",
            "Get:3 http://ppa.launchpad.net/alex-p/tesseract-ocr-devel/ubuntu focal/main amd64 tesseract-ocr-osd all 1:5.0.0~git39-6572757-2ppa1~focal1 [2,992 kB]\n",
            "Get:4 http://ppa.launchpad.net/alex-p/tesseract-ocr-devel/ubuntu focal/main amd64 tesseract-ocr amd64 5.3.0+git6190-19fe1a67-1ppa1~focal1 [410 kB]\n",
            "Fetched 6,234 kB in 3s (2,488 kB/s)\n",
            "Selecting previously unselected package libtesseract5:amd64.\n",
            "(Reading database ... 138696 files and directories currently installed.)\n",
            "Preparing to unpack .../libtesseract5_5.3.0+git6190-19fe1a67-1ppa1~focal1_amd64.deb ...\n",
            "Unpacking libtesseract5:amd64 (5.3.0+git6190-19fe1a67-1ppa1~focal1) ...\n",
            "Selecting previously unselected package tesseract-ocr-eng.\n",
            "Preparing to unpack .../tesseract-ocr-eng_1%3a5.0.0~git39-6572757-2ppa1~focal1_all.deb ...\n",
            "Unpacking tesseract-ocr-eng (1:5.0.0~git39-6572757-2ppa1~focal1) ...\n",
            "Selecting previously unselected package tesseract-ocr-osd.\n",
            "Preparing to unpack .../tesseract-ocr-osd_1%3a5.0.0~git39-6572757-2ppa1~focal1_all.deb ...\n",
            "Unpacking tesseract-ocr-osd (1:5.0.0~git39-6572757-2ppa1~focal1) ...\n",
            "Selecting previously unselected package tesseract-ocr.\n",
            "Preparing to unpack .../tesseract-ocr_5.3.0+git6190-19fe1a67-1ppa1~focal1_amd64.deb ...\n",
            "Unpacking tesseract-ocr (5.3.0+git6190-19fe1a67-1ppa1~focal1) ...\n",
            "Setting up tesseract-ocr-eng (1:5.0.0~git39-6572757-2ppa1~focal1) ...\n",
            "Setting up libtesseract5:amd64 (5.3.0+git6190-19fe1a67-1ppa1~focal1) ...\n",
            "Setting up tesseract-ocr-osd (1:5.0.0~git39-6572757-2ppa1~focal1) ...\n",
            "Setting up tesseract-ocr (5.3.0+git6190-19fe1a67-1ppa1~focal1) ...\n",
            "Processing triggers for man-db (2.9.1-1) ...\n",
            "Processing triggers for libc-bin (2.31-0ubuntu9.9) ...\n",
            "Reading package lists... Done\n",
            "Building dependency tree       \n",
            "Reading state information... Done\n",
            "The following additional packages will be installed:\n",
            "  libarchive-dev libleptonica-dev\n",
            "The following NEW packages will be installed:\n",
            "  libarchive-dev libleptonica-dev libtesseract-dev\n",
            "0 upgraded, 3 newly installed, 0 to remove and 32 not upgraded.\n",
            "Need to get 3,351 kB of archives.\n",
            "After this operation, 15.6 MB of additional disk space will be used.\n",
            "Get:1 http://archive.ubuntu.com/ubuntu focal-updates/main amd64 libarchive-dev amd64 3.4.0-2ubuntu1.2 [491 kB]\n",
            "Get:2 http://archive.ubuntu.com/ubuntu focal/universe amd64 libleptonica-dev amd64 1.79.0-1 [1,389 kB]\n",
            "Get:3 http://ppa.launchpad.net/alex-p/tesseract-ocr-devel/ubuntu focal/main amd64 libtesseract-dev amd64 5.3.0+git6190-19fe1a67-1ppa1~focal1 [1,471 kB]\n",
            "Fetched 3,351 kB in 1s (5,236 kB/s)\n",
            "Selecting previously unselected package libarchive-dev:amd64.\n",
            "(Reading database ... 138784 files and directories currently installed.)\n",
            "Preparing to unpack .../libarchive-dev_3.4.0-2ubuntu1.2_amd64.deb ...\n",
            "Unpacking libarchive-dev:amd64 (3.4.0-2ubuntu1.2) ...\n",
            "Selecting previously unselected package libleptonica-dev:amd64.\n",
            "Preparing to unpack .../libleptonica-dev_1.79.0-1_amd64.deb ...\n",
            "Unpacking libleptonica-dev:amd64 (1.79.0-1) ...\n",
            "Selecting previously unselected package libtesseract-dev:amd64.\n",
            "Preparing to unpack .../libtesseract-dev_5.3.0+git6190-19fe1a67-1ppa1~focal1_amd64.deb ...\n",
            "Unpacking libtesseract-dev:amd64 (5.3.0+git6190-19fe1a67-1ppa1~focal1) ...\n",
            "Setting up libleptonica-dev:amd64 (1.79.0-1) ...\n",
            "Setting up libarchive-dev:amd64 (3.4.0-2ubuntu1.2) ...\n",
            "Setting up libtesseract-dev:amd64 (5.3.0+git6190-19fe1a67-1ppa1~focal1) ...\n",
            "Processing triggers for man-db (2.9.1-1) ...\n",
            "Looking in indexes: https://pypi.org/simple, https://us-python.pkg.dev/colab-wheels/public/simple/\n",
            "Collecting pytesseract\n",
            "  Downloading pytesseract-0.3.10-py3-none-any.whl (14 kB)\n",
            "Requirement already satisfied: Pillow>=8.0.0 in /usr/local/lib/python3.9/dist-packages (from pytesseract) (8.4.0)\n",
            "Requirement already satisfied: packaging>=21.3 in /usr/local/lib/python3.9/dist-packages (from pytesseract) (23.0)\n",
            "Installing collected packages: pytesseract\n",
            "Successfully installed pytesseract-0.3.10\n",
            "5.3.0\n"
          ]
        }
      ],
      "source": [
        "# Installing tesseract on the virtual machine\n",
        "!sudo add-apt-repository ppa:alex-p/tesseract-ocr-devel -y\n",
        "\n",
        "#install grass\n",
        "!apt-get install grass -y;\n",
        "\n",
        "!apt install libspatialindex-dev\n",
        "!pip install rtree\n",
        "!pip install geopandas\n",
        "\n",
        "! apt install tesseract-ocr\n",
        "! apt install libtesseract-dev\n",
        "! pip install pytesseract\n",
        "\n",
        "import pytesseract\n",
        "print(pytesseract.get_tesseract_version()) # should be above 5.2.0. \n"
      ]
    },
    {
      "cell_type": "markdown",
      "metadata": {
        "id": "2vUb0O0K3sF-"
      },
      "source": [
        "\n",
        "Mount the drive folder on the notebook"
      ]
    },
    {
      "cell_type": "code",
      "execution_count": 2,
      "metadata": {
        "colab": {
          "base_uri": "https://localhost:8080/",
          "height": 329
        },
        "id": "-ahXxkVf2c3D",
        "outputId": "ed553d03-527e-4bfc-c633-6934a0156d3f"
      },
      "outputs": [
        {
          "output_type": "error",
          "ename": "MessageError",
          "evalue": "ignored",
          "traceback": [
            "\u001b[0;31m---------------------------------------------------------------------------\u001b[0m",
            "\u001b[0;31mMessageError\u001b[0m                              Traceback (most recent call last)",
            "\u001b[0;32m<ipython-input-2-4996ee3d8d09>\u001b[0m in \u001b[0;36m<module>\u001b[0;34m\u001b[0m\n\u001b[1;32m      1\u001b[0m \u001b[0;32mfrom\u001b[0m \u001b[0mgoogle\u001b[0m\u001b[0;34m.\u001b[0m\u001b[0mcolab\u001b[0m \u001b[0;32mimport\u001b[0m \u001b[0mdrive\u001b[0m\u001b[0;34m\u001b[0m\u001b[0;34m\u001b[0m\u001b[0m\n\u001b[0;32m----> 2\u001b[0;31m \u001b[0mdrive\u001b[0m\u001b[0;34m.\u001b[0m\u001b[0mmount\u001b[0m\u001b[0;34m(\u001b[0m\u001b[0;34m'/content/gdrive'\u001b[0m\u001b[0;34m)\u001b[0m\u001b[0;34m\u001b[0m\u001b[0;34m\u001b[0m\u001b[0m\n\u001b[0m",
            "\u001b[0;32m/usr/local/lib/python3.9/dist-packages/google/colab/drive.py\u001b[0m in \u001b[0;36mmount\u001b[0;34m(mountpoint, force_remount, timeout_ms, readonly)\u001b[0m\n\u001b[1;32m    101\u001b[0m \u001b[0;32mdef\u001b[0m \u001b[0mmount\u001b[0m\u001b[0;34m(\u001b[0m\u001b[0mmountpoint\u001b[0m\u001b[0;34m,\u001b[0m \u001b[0mforce_remount\u001b[0m\u001b[0;34m=\u001b[0m\u001b[0;32mFalse\u001b[0m\u001b[0;34m,\u001b[0m \u001b[0mtimeout_ms\u001b[0m\u001b[0;34m=\u001b[0m\u001b[0;36m120000\u001b[0m\u001b[0;34m,\u001b[0m \u001b[0mreadonly\u001b[0m\u001b[0;34m=\u001b[0m\u001b[0;32mFalse\u001b[0m\u001b[0;34m)\u001b[0m\u001b[0;34m:\u001b[0m\u001b[0;34m\u001b[0m\u001b[0;34m\u001b[0m\u001b[0m\n\u001b[1;32m    102\u001b[0m   \u001b[0;34m\"\"\"Mount your Google Drive at the specified mountpoint path.\"\"\"\u001b[0m\u001b[0;34m\u001b[0m\u001b[0;34m\u001b[0m\u001b[0m\n\u001b[0;32m--> 103\u001b[0;31m   return _mount(\n\u001b[0m\u001b[1;32m    104\u001b[0m       \u001b[0mmountpoint\u001b[0m\u001b[0;34m,\u001b[0m\u001b[0;34m\u001b[0m\u001b[0;34m\u001b[0m\u001b[0m\n\u001b[1;32m    105\u001b[0m       \u001b[0mforce_remount\u001b[0m\u001b[0;34m=\u001b[0m\u001b[0mforce_remount\u001b[0m\u001b[0;34m,\u001b[0m\u001b[0;34m\u001b[0m\u001b[0;34m\u001b[0m\u001b[0m\n",
            "\u001b[0;32m/usr/local/lib/python3.9/dist-packages/google/colab/drive.py\u001b[0m in \u001b[0;36m_mount\u001b[0;34m(mountpoint, force_remount, timeout_ms, ephemeral, readonly)\u001b[0m\n\u001b[1;32m    130\u001b[0m   )\n\u001b[1;32m    131\u001b[0m   \u001b[0;32mif\u001b[0m \u001b[0mephemeral\u001b[0m\u001b[0;34m:\u001b[0m\u001b[0;34m\u001b[0m\u001b[0;34m\u001b[0m\u001b[0m\n\u001b[0;32m--> 132\u001b[0;31m     _message.blocking_request(\n\u001b[0m\u001b[1;32m    133\u001b[0m         \u001b[0;34m'request_auth'\u001b[0m\u001b[0;34m,\u001b[0m \u001b[0mrequest\u001b[0m\u001b[0;34m=\u001b[0m\u001b[0;34m{\u001b[0m\u001b[0;34m'authType'\u001b[0m\u001b[0;34m:\u001b[0m \u001b[0;34m'dfs_ephemeral'\u001b[0m\u001b[0;34m}\u001b[0m\u001b[0;34m,\u001b[0m \u001b[0mtimeout_sec\u001b[0m\u001b[0;34m=\u001b[0m\u001b[0;32mNone\u001b[0m\u001b[0;34m\u001b[0m\u001b[0;34m\u001b[0m\u001b[0m\n\u001b[1;32m    134\u001b[0m     )\n",
            "\u001b[0;32m/usr/local/lib/python3.9/dist-packages/google/colab/_message.py\u001b[0m in \u001b[0;36mblocking_request\u001b[0;34m(request_type, request, timeout_sec, parent)\u001b[0m\n\u001b[1;32m    175\u001b[0m       \u001b[0mrequest_type\u001b[0m\u001b[0;34m,\u001b[0m \u001b[0mrequest\u001b[0m\u001b[0;34m,\u001b[0m \u001b[0mparent\u001b[0m\u001b[0;34m=\u001b[0m\u001b[0mparent\u001b[0m\u001b[0;34m,\u001b[0m \u001b[0mexpect_reply\u001b[0m\u001b[0;34m=\u001b[0m\u001b[0;32mTrue\u001b[0m\u001b[0;34m\u001b[0m\u001b[0;34m\u001b[0m\u001b[0m\n\u001b[1;32m    176\u001b[0m   )\n\u001b[0;32m--> 177\u001b[0;31m   \u001b[0;32mreturn\u001b[0m \u001b[0mread_reply_from_input\u001b[0m\u001b[0;34m(\u001b[0m\u001b[0mrequest_id\u001b[0m\u001b[0;34m,\u001b[0m \u001b[0mtimeout_sec\u001b[0m\u001b[0;34m)\u001b[0m\u001b[0;34m\u001b[0m\u001b[0;34m\u001b[0m\u001b[0m\n\u001b[0m",
            "\u001b[0;32m/usr/local/lib/python3.9/dist-packages/google/colab/_message.py\u001b[0m in \u001b[0;36mread_reply_from_input\u001b[0;34m(message_id, timeout_sec)\u001b[0m\n\u001b[1;32m    102\u001b[0m     ):\n\u001b[1;32m    103\u001b[0m       \u001b[0;32mif\u001b[0m \u001b[0;34m'error'\u001b[0m \u001b[0;32min\u001b[0m \u001b[0mreply\u001b[0m\u001b[0;34m:\u001b[0m\u001b[0;34m\u001b[0m\u001b[0;34m\u001b[0m\u001b[0m\n\u001b[0;32m--> 104\u001b[0;31m         \u001b[0;32mraise\u001b[0m \u001b[0mMessageError\u001b[0m\u001b[0;34m(\u001b[0m\u001b[0mreply\u001b[0m\u001b[0;34m[\u001b[0m\u001b[0;34m'error'\u001b[0m\u001b[0;34m]\u001b[0m\u001b[0;34m)\u001b[0m\u001b[0;34m\u001b[0m\u001b[0;34m\u001b[0m\u001b[0m\n\u001b[0m\u001b[1;32m    105\u001b[0m       \u001b[0;32mreturn\u001b[0m \u001b[0mreply\u001b[0m\u001b[0;34m.\u001b[0m\u001b[0mget\u001b[0m\u001b[0;34m(\u001b[0m\u001b[0;34m'data'\u001b[0m\u001b[0;34m,\u001b[0m \u001b[0;32mNone\u001b[0m\u001b[0;34m)\u001b[0m\u001b[0;34m\u001b[0m\u001b[0;34m\u001b[0m\u001b[0m\n\u001b[1;32m    106\u001b[0m \u001b[0;34m\u001b[0m\u001b[0m\n",
            "\u001b[0;31mMessageError\u001b[0m: Error: credential propagation was unsuccessful"
          ]
        }
      ],
      "source": [
        "from google.colab import drive\n",
        "drive.mount('/content/gdrive')"
      ]
    },
    {
      "cell_type": "markdown",
      "metadata": {
        "id": "oZoMuRAK3yqu"
      },
      "source": [
        "# Set variables and paths\n",
        "\n",
        "*   Attach the \"scripts\" folder to access the python scripts\n",
        "*   Set Spatial Reference System with EPSG code\n",
        "*   Specify input and output image and Json paths\n",
        "\n"
      ]
    },
    {
      "cell_type": "code",
      "execution_count": null,
      "metadata": {
        "id": "PbnW6chO295F"
      },
      "outputs": [],
      "source": [
        "# VARIABLES\n",
        "\n",
        "raster_name = 'ChadNorthern.tif'\n",
        "epsg = 'EPSG:32633' # 'EPSG:32633' # Benin: 32631, Rwanda: 32735, Chad: 32633\n",
        "path_scripts = '/content/gdrive/MyDrive/SmartLandMaps - AllDocs/Software/Systematic Testing/scripts/' # Path of the scripts folder\n",
        "image_dir = '/content/gdrive/MyDrive/SmartLandMaps - AllDocs/Software/Systematic Testing/data/geotiff/Chad/' # Path of the folder conatining images\n",
        "json_output_dir = '/content/gdrive/MyDrive/SmartLandMaps - AllDocs/Software/Systematic Testing/data/' # Path of folder for GeoJSON results\n",
        "boundary_output_dir = '/content/gdrive/MyDrive/SmartLandMaps - AllDocs/Software/Systematic Testing/data/Chad boundaries/' # Path of folder for extracted boundary image\n",
        "administrative_data_output_dir = '/content/gdrive/MyDrive/SmartLandMaps - AllDocs/Software/ChadPilot/data/attributes/' # Path of folder for the administrative data\n",
        "logs_dir = '/content/gdrive/MyDrive/SmartLandMaps - AllDocs/Software/ChadPilot/data/logs/'\n",
        "sticker_json = json_output_dir + raster_name[:-4]+'_num.json'\n",
        "\n",
        "# From here onwards, parameters to retrieve the administrative data from odk\n",
        "attributes_filename = 'chad_attributes.json'\n",
        "credentials = {'email': 'auriol.degbelo@uni-osnabrueck.de', 'password': '*UsEr*2021*'}\n",
        "url_post = \"https://smartlmaps.mooo.com/v1/sessions\"\n",
        "#for benin url_get = \"https://smartlmaps.mooo.com/v1/projects/4/forms/build_Untitled-Form_1643660577/submissions.csv\" \n",
        "url_get = \"https://smartlmaps.mooo.com/v1/projects/7/forms/1234567/submissions.csv\" # url of the form to retrieve data from\n",
        "saving_path = administrative_data_output_dir + attributes_filename\n",
        "\n",
        "\n",
        "import sys\n",
        "sys.path.append(path_scripts) \n",
        "input_raster = image_dir + raster_name\n",
        "\n",
        "\n"
      ]
    },
    {
      "cell_type": "markdown",
      "metadata": {
        "id": "GezGJuM64bCd"
      },
      "source": [
        "## **Boundary Extraction**"
      ]
    },
    {
      "cell_type": "markdown",
      "metadata": {
        "id": "tilXMQvVinBy"
      },
      "source": [
        "Load the input raster file, extract the boundaries and store the \n",
        "extracted boundaries as a tif file\n",
        "\n"
      ]
    },
    {
      "cell_type": "code",
      "execution_count": null,
      "metadata": {
        "colab": {
          "base_uri": "https://localhost:8080/",
          "height": 426
        },
        "id": "4kkIuZsdiqNr",
        "outputId": "50b1182a-5490-41ac-c5f9-71b53a0282c9"
      },
      "outputs": [
        {
          "output_type": "stream",
          "name": "stdout",
          "text": [
            "Looking in indexes: https://pypi.org/simple, https://us-python.pkg.dev/colab-wheels/public/simple/\n",
            "Requirement already satisfied: patchify in /usr/local/lib/python3.9/dist-packages (0.2.3)\n",
            "Requirement already satisfied: numpy<2,>=1 in /usr/local/lib/python3.9/dist-packages (from patchify) (1.22.4)\n"
          ]
        },
        {
          "output_type": "error",
          "ename": "ModuleNotFoundError",
          "evalue": "ignored",
          "traceback": [
            "\u001b[0;31m---------------------------------------------------------------------------\u001b[0m",
            "\u001b[0;31mModuleNotFoundError\u001b[0m                       Traceback (most recent call last)",
            "\u001b[0;32m<ipython-input-14-4bac8fe5cda9>\u001b[0m in \u001b[0;36m<module>\u001b[0;34m\u001b[0m\n\u001b[1;32m     11\u001b[0m \u001b[0;34m\u001b[0m\u001b[0m\n\u001b[1;32m     12\u001b[0m \u001b[0;31m#boundary_extractor_mean_2023_02\u001b[0m\u001b[0;34m\u001b[0m\u001b[0;34m\u001b[0m\u001b[0m\n\u001b[0;32m---> 13\u001b[0;31m \u001b[0;32mfrom\u001b[0m \u001b[0mboundary_extractor_blur_2023_02\u001b[0m \u001b[0;32mimport\u001b[0m \u001b[0mextract_boundaries\u001b[0m\u001b[0;34m\u001b[0m\u001b[0;34m\u001b[0m\u001b[0m\n\u001b[0m\u001b[1;32m     14\u001b[0m \u001b[0;34m\u001b[0m\u001b[0m\n\u001b[1;32m     15\u001b[0m \u001b[0;31m#extract_boundaries(input_raster, boundaries_output, patch_shape, current_threshold, rgba, tfw, plot)\u001b[0m\u001b[0;34m\u001b[0m\u001b[0;34m\u001b[0m\u001b[0m\n",
            "\u001b[0;31mModuleNotFoundError\u001b[0m: No module named 'boundary_extractor_blur_2023_02'",
            "",
            "\u001b[0;31m---------------------------------------------------------------------------\u001b[0;32m\nNOTE: If your import is failing due to a missing package, you can\nmanually install dependencies using either !pip or !apt.\n\nTo view examples of installing some common dependencies, click the\n\"Open Examples\" button below.\n\u001b[0;31m---------------------------------------------------------------------------\u001b[0m\n"
          ],
          "errorDetails": {
            "actions": [
              {
                "action": "open_url",
                "actionText": "Open Examples",
                "url": "/notebooks/snippets/importing_libraries.ipynb"
              }
            ]
          }
        }
      ],
      "source": [
        "patch_shape = (640, 640, 3) # the size of the patches, the first two parameters should be multiples of 32, the third is always 3\n",
        "current_threshold = 45 # between 0 and 255. Threshold for the greyscale image, lower value means less noise but less pixels in boundaries\n",
        "rgba = False # change to True if the input image is a rgba image\n",
        "tfw = True # change to False if you don't want to generate a tfw file along with the tif for the boundaries\n",
        "plot = False # change to True if you want the patches visualized\n",
        "\n",
        "!pip install patchify\n",
        "# Don't need to change these\n",
        "boundaries_output = boundary_output_dir + raster_name[:-4] + \"_bound_\"+str(current_threshold)+\".tif\"\n",
        "parcel_poly = json_output_dir + raster_name[:-4] + '_poly_'+str(current_threshold)+'.json'\n",
        "\n",
        "#boundary_extractor_mean_2023_02\n",
        "from boundary_extractor_blur_2023_02 import extract_boundaries \n",
        "\n",
        "#extract_boundaries(input_raster, boundaries_output, patch_shape, current_threshold, rgba, tfw, plot) "
      ]
    },
    {
      "cell_type": "markdown",
      "metadata": {
        "id": "3baos24O44bR"
      },
      "source": [
        "## **Vectorization, Postprocessing and Geojson Export**"
      ]
    },
    {
      "cell_type": "markdown",
      "metadata": {
        "id": "yy6o5da8oVXj"
      },
      "source": [
        "Generates polygons based on the boundary raster, performs generalization and exports them as a geojson file."
      ]
    },
    {
      "cell_type": "code",
      "execution_count": null,
      "metadata": {
        "id": "7sJqUUmq5MVR",
        "colab": {
          "base_uri": "https://localhost:8080/",
          "height": 600
        },
        "outputId": "345d6eb3-caf4-4729-8358-532e53777a69"
      },
      "outputs": [
        {
          "output_type": "stream",
          "name": "stdout",
          "text": [
            "Looking in indexes: https://pypi.org/simple, https://us-python.pkg.dev/colab-wheels/public/simple/\n",
            "Requirement already satisfied: pyproj in /usr/local/lib/python3.9/dist-packages (3.4.1)\n",
            "Requirement already satisfied: certifi in /usr/local/lib/python3.9/dist-packages (from pyproj) (2022.12.7)\n",
            "Looking in indexes: https://pypi.org/simple, https://us-python.pkg.dev/colab-wheels/public/simple/\n",
            "Collecting geojson\n",
            "  Downloading geojson-3.0.1-py3-none-any.whl (15 kB)\n",
            "Installing collected packages: geojson\n",
            "Successfully installed geojson-3.0.1\n",
            "Looking in indexes: https://pypi.org/simple, https://us-python.pkg.dev/colab-wheels/public/simple/\n",
            "Collecting grass-session\n",
            "  Downloading grass_session-0.5-py2.py3-none-any.whl (31 kB)\n",
            "Installing collected packages: grass-session\n",
            "Successfully installed grass-session-0.5\n"
          ]
        },
        {
          "output_type": "error",
          "ename": "ModuleNotFoundError",
          "evalue": "ignored",
          "traceback": [
            "\u001b[0;31m---------------------------------------------------------------------------\u001b[0m",
            "\u001b[0;31mModuleNotFoundError\u001b[0m                       Traceback (most recent call last)",
            "\u001b[0;32m<ipython-input-15-51df730e9f2a>\u001b[0m in \u001b[0;36m<module>\u001b[0;34m\u001b[0m\n\u001b[1;32m      8\u001b[0m \u001b[0mget_ipython\u001b[0m\u001b[0;34m(\u001b[0m\u001b[0;34m)\u001b[0m\u001b[0;34m.\u001b[0m\u001b[0msystem\u001b[0m\u001b[0;34m(\u001b[0m\u001b[0;34m'pip install grass-session'\u001b[0m\u001b[0;34m)\u001b[0m\u001b[0;34m\u001b[0m\u001b[0;34m\u001b[0m\u001b[0m\n\u001b[1;32m      9\u001b[0m \u001b[0;34m\u001b[0m\u001b[0m\n\u001b[0;32m---> 10\u001b[0;31m \u001b[0;32mfrom\u001b[0m \u001b[0mvectorizer_grass_2023_02\u001b[0m \u001b[0;32mimport\u001b[0m \u001b[0mgenerate_polygons\u001b[0m\u001b[0;34m\u001b[0m\u001b[0;34m\u001b[0m\u001b[0m\n\u001b[0m\u001b[1;32m     11\u001b[0m \u001b[0;34m\u001b[0m\u001b[0m\n\u001b[1;32m     12\u001b[0m \u001b[0mgenerate_polygons\u001b[0m \u001b[0;34m(\u001b[0m\u001b[0minput_raster\u001b[0m\u001b[0;34m,\u001b[0m \u001b[0mboundaries_output\u001b[0m\u001b[0;34m,\u001b[0m \u001b[0mepsg\u001b[0m\u001b[0;34m,\u001b[0m  \u001b[0mparcel_poly\u001b[0m\u001b[0;34m,\u001b[0m \u001b[0mmin_parcel_area\u001b[0m\u001b[0;34m,\u001b[0m \u001b[0mruns_num\u001b[0m\u001b[0;34m,\u001b[0m \u001b[0mdouglas_thresh\u001b[0m\u001b[0;34m,\u001b[0m \u001b[0mdelraw\u001b[0m\u001b[0;34m)\u001b[0m\u001b[0;34m\u001b[0m\u001b[0;34m\u001b[0m\u001b[0m\n",
            "\u001b[0;31mModuleNotFoundError\u001b[0m: No module named 'vectorizer_grass_2023_02'",
            "",
            "\u001b[0;31m---------------------------------------------------------------------------\u001b[0;32m\nNOTE: If your import is failing due to a missing package, you can\nmanually install dependencies using either !pip or !apt.\n\nTo view examples of installing some common dependencies, click the\n\"Open Examples\" button below.\n\u001b[0;31m---------------------------------------------------------------------------\u001b[0m\n"
          ],
          "errorDetails": {
            "actions": [
              {
                "action": "open_url",
                "actionText": "Open Examples",
                "url": "/notebooks/snippets/importing_libraries.ipynb"
              }
            ]
          }
        }
      ],
      "source": [
        "min_parcel_area = 50 # Minimum area of pacels in square meters (if set to 0 all polygons are extracted) \n",
        "runs_num = 1 # Number of runs. ### If you want to run this part again change it or else GRASS won't work.###\n",
        "douglas_thresh = 0.000005 # Threshold for the Doulgas-Peucker algorithm. 0.000005 gives good result for around 500m^2 parcels. \n",
        "delraw = False # If set to True, the raw polygons GeoJSON is deleted, if False, it is kept.\n",
        "\n",
        "!pip install pyproj\n",
        "!pip install geojson \n",
        "!pip install grass-session\n",
        "\n",
        "from vectorizer_grass_2023_02 import generate_polygons\n",
        "\n",
        "generate_polygons (input_raster, boundaries_output, epsg,  parcel_poly, min_parcel_area, runs_num, douglas_thresh, delraw)\n"
      ]
    },
    {
      "cell_type": "markdown",
      "metadata": {
        "id": "zLKrz45g12Xf"
      },
      "source": [
        "## **Sticker Extraction and Geojson Export**\n"
      ]
    },
    {
      "cell_type": "markdown",
      "metadata": {
        "id": "rR6y2aWZ2FrJ"
      },
      "source": [
        "Loads the input raster file, extracts the stickers and their locations, and returns the detected numbers with coordinates as a geojson file\n",
        "\n"
      ]
    },
    {
      "cell_type": "code",
      "execution_count": null,
      "metadata": {
        "colab": {
          "base_uri": "https://localhost:8080/"
        },
        "id": "4u77MaZt2Rxf",
        "outputId": "6b5c38fc-fab1-4f5b-f7de-e092f40db505"
      },
      "outputs": [
        {
          "name": "stdout",
          "output_type": "stream",
          "text": [
            "Looking in indexes: https://pypi.org/simple, https://us-python.pkg.dev/colab-wheels/public/simple/\n",
            "Requirement already satisfied: pyproj in /usr/local/lib/python3.8/dist-packages (3.4.1)\n",
            "Requirement already satisfied: certifi in /usr/local/lib/python3.8/dist-packages (from pyproj) (2022.9.24)\n",
            "Looking in indexes: https://pypi.org/simple, https://us-python.pkg.dev/colab-wheels/public/simple/\n",
            "Requirement already satisfied: geojson in /usr/local/lib/python3.8/dist-packages (2.5.0)\n",
            "Looking in indexes: https://pypi.org/simple, https://us-python.pkg.dev/colab-wheels/public/simple/\n",
            "Requirement already satisfied: imutils in /usr/local/lib/python3.8/dist-packages (0.5.4)\n",
            "Reading image...\n",
            "Done. Preprocessing...\n",
            "Done. Detecting contours...\n",
            "Done. Extraction and OCR...\n",
            "Done. Number of stickers extracted: 59\n",
            "Writing results...\n",
            "Finished\n"
          ]
        }
      ],
      "source": [
        "#Thresholds for colour segmentation 0-255 for each channel (B G R)\n",
        "bmin=0\n",
        "bmax=120\n",
        "gmin=140\n",
        "gmax=255\n",
        "rmin=170\n",
        "rmax=255\n",
        "# Set these to filter sticker pixels from the background. Leave some margin so that stickers don't erodate \n",
        "# and numbers can be seen clearly, but try to set them to remove the most noise possible.\n",
        "\n",
        "!pip install pyproj\n",
        "!pip install geojson\n",
        "!pip install imutils\n",
        "\n",
        "from OCR_colab_2023_02 import detect_stickers\n",
        "detect_stickers(input_raster, sticker_json, bmin, bmax, gmin, gmax, rmin, rmax, epsg)\n",
        "\n"
      ]
    },
    {
      "cell_type": "markdown",
      "metadata": {
        "id": "cFyxUOY5rSVn"
      },
      "source": [
        "## **Analyse relations between extracted and ODK data**\n",
        "\n"
      ]
    },
    {
      "cell_type": "code",
      "execution_count": null,
      "metadata": {
        "colab": {
          "base_uri": "https://localhost:8080/"
        },
        "id": "PhyKWEALrf8Q",
        "outputId": "88f77554-99a8-4b9f-c4c1-63f2495d1ecc"
      },
      "outputs": [
        {
          "name": "stdout",
          "output_type": "stream",
          "text": [
            "Looking in indexes: https://pypi.org/simple, https://us-python.pkg.dev/colab-wheels/public/simple/\n",
            "Collecting geopandas\n",
            "  Downloading geopandas-0.12.1-py3-none-any.whl (1.1 MB)\n",
            "\u001b[K     |████████████████████████████████| 1.1 MB 4.8 MB/s \n",
            "\u001b[?25hRequirement already satisfied: pyproj>=2.6.1.post1 in /usr/local/lib/python3.8/dist-packages (from geopandas) (3.4.0)\n",
            "Requirement already satisfied: shapely>=1.7 in /usr/local/lib/python3.8/dist-packages (from geopandas) (1.8.5.post1)\n",
            "Requirement already satisfied: pandas>=1.0.0 in /usr/local/lib/python3.8/dist-packages (from geopandas) (1.3.5)\n",
            "Collecting fiona>=1.8\n",
            "  Downloading Fiona-1.8.22-cp38-cp38-manylinux_2_17_x86_64.manylinux2014_x86_64.whl (16.6 MB)\n",
            "\u001b[K     |████████████████████████████████| 16.6 MB 104 kB/s \n",
            "\u001b[?25hRequirement already satisfied: packaging in /usr/local/lib/python3.8/dist-packages (from geopandas) (21.3)\n",
            "Requirement already satisfied: certifi in /usr/local/lib/python3.8/dist-packages (from fiona>=1.8->geopandas) (2022.9.24)\n",
            "Requirement already satisfied: six>=1.7 in /usr/local/lib/python3.8/dist-packages (from fiona>=1.8->geopandas) (1.15.0)\n",
            "Collecting munch\n",
            "  Downloading munch-2.5.0-py2.py3-none-any.whl (10 kB)\n",
            "Requirement already satisfied: attrs>=17 in /usr/local/lib/python3.8/dist-packages (from fiona>=1.8->geopandas) (22.1.0)\n",
            "Requirement already satisfied: click>=4.0 in /usr/local/lib/python3.8/dist-packages (from fiona>=1.8->geopandas) (7.1.2)\n",
            "Collecting cligj>=0.5\n",
            "  Downloading cligj-0.7.2-py3-none-any.whl (7.1 kB)\n",
            "Requirement already satisfied: setuptools in /usr/local/lib/python3.8/dist-packages (from fiona>=1.8->geopandas) (57.4.0)\n",
            "Collecting click-plugins>=1.0\n",
            "  Downloading click_plugins-1.1.1-py2.py3-none-any.whl (7.5 kB)\n",
            "Requirement already satisfied: pytz>=2017.3 in /usr/local/lib/python3.8/dist-packages (from pandas>=1.0.0->geopandas) (2022.6)\n",
            "Requirement already satisfied: numpy>=1.17.3 in /usr/local/lib/python3.8/dist-packages (from pandas>=1.0.0->geopandas) (1.21.6)\n",
            "Requirement already satisfied: python-dateutil>=2.7.3 in /usr/local/lib/python3.8/dist-packages (from pandas>=1.0.0->geopandas) (2.8.2)\n",
            "Requirement already satisfied: pyparsing!=3.0.5,>=2.0.2 in /usr/local/lib/python3.8/dist-packages (from packaging->geopandas) (3.0.9)\n",
            "Installing collected packages: munch, cligj, click-plugins, fiona, geopandas\n",
            "Successfully installed click-plugins-1.1.1 cligj-0.7.2 fiona-1.8.22 geopandas-0.12.1 munch-2.5.0\n",
            "Response Code:  200\n",
            "Filename: Mi_northern_HighRes_clip.tif\n",
            "Number of parcels detected: 57\n",
            "Number of stickers detected: 55\n",
            "Number of records in odk: 83\n",
            "Number of parcels containing exactly 1 sticker: 55\n",
            "No duplicate records in detected numbers\n",
            "Number of parcels that need to be checked: 2\n",
            "Number of stickers that need to be checked: 0\n",
            "Polygon with parcelID 0 contains 0 stickers.\n",
            "Polygon with parcelID 45 contains 0 stickers.\n",
            "Number of records detected (55) does not match with number of records in odk (83)\n",
            "ID-s match odk data, no check needed\n"
          ]
        }
      ],
      "source": [
        "#Analyses the results and gives feedback on the amount of parcels or stickers that need editing. \n",
        "#Also compares sticker ID-s with an ODK Form and checks for inconsistency. Output is written into a log file.\n",
        "\n",
        "from analyser_2023_02 import retrieve_odk_administrative_data, get_token, analyse_relations\n",
        "#!pip install geopandas # in case you're not running every block from the start\n",
        "\n",
        "odk_data = retrieve_odk_administrative_data (url_get, get_token(url_post, credentials), saving_path)\n",
        "analyse_relations(raster_name, sticker_json, parcel_poly, odk_data, logs_dir)\n",
        "\n"
      ]
    },
    {
      "cell_type": "markdown",
      "metadata": {
        "id": "cx8d3Cji8LK3"
      },
      "source": [
        "## **Join parcels with ODK data**"
      ]
    },
    {
      "cell_type": "code",
      "execution_count": null,
      "metadata": {
        "colab": {
          "base_uri": "https://localhost:8080/"
        },
        "id": "SLQjH4njm01c",
        "outputId": "628d35b7-4f5f-486a-c715-ecd8ebf5c5e2"
      },
      "outputs": [
        {
          "name": "stdout",
          "output_type": "stream",
          "text": [
            "Response Code:  200\n"
          ]
        }
      ],
      "source": [
        "# Join ODK data with polygons by sticker ID\n",
        "# Before running check if data needs to be edited\n",
        "\n",
        "# paths to change:\n",
        "# You can delete all the intermediate results as the last step. The finaloutput is what is important. \n",
        "stickers_json=\"output/numtest.geojson\"\n",
        "parcels_json=\"output/tab1gr_80_gen1cl.geojson\"\n",
        "polyidout='output/test_polyid.json' \n",
        "finaloutput=\"output/\"+'test_parcels_with_attributes.json'\n",
        "\n",
        "from geopandas import gpd \n",
        "\n",
        "points = gpd.GeoDataFrame.from_file(stickers_json) # Stickers JSON  \n",
        "polys = gpd.GeoDataFrame.from_file(parcels_json) # Parcels JSON\n",
        "polyid = gpd.sjoin(polys, points, how='left') \n",
        "polyid.to_file(polyidout) # Polygons with ID-s output filename\n",
        "\n",
        "print(\"Sticker ID successfully merged with polygons\")\n",
        "\n",
        "    # Join ODK data with polygons by sticker ID\n",
        "# Before running check if data needs to be edited\n",
        "import pandas as pd\n",
        "\n",
        "odk_dataframe = pd.DataFrame.from_dict(odk_data)\n",
        "odk_poly_merged = polyid.merge(odk_dataframe, left_on='Sticker_number', right_on='SpatialUnit-ID')\n",
        "odk_poly_merged.to_file(finaloutput) # Parcels with all attributes from odk\n"
      ]
    },
    {
      "cell_type": "markdown",
      "metadata": {
        "id": "Ah2q5TfM544T"
      },
      "source": [
        "## **View ODK data**"
      ]
    },
    {
      "cell_type": "code",
      "execution_count": null,
      "metadata": {
        "colab": {
          "base_uri": "https://localhost:8080/"
        },
        "id": "z4CSsoqb5wP4",
        "outputId": "8a4344b1-66b6-4b31-9c4b-531960cc3112"
      },
      "outputs": [
        {
          "name": "stdout",
          "output_type": "stream",
          "text": [
            "Response Code:  200\n",
            "Number of attribute data collected:  83\n",
            "Printing now an example of attribute data...\n",
            "OrderedDict([('SubmissionDate', '2022-10-11T16:49:17.832Z'), ('FirstName', 'Tchigo'), ('Surname', 'Mahamat  Abakar '), ('ID_number', '28'), ('Gender', 'Homme'), ('DateNaissance', '1971-01-01'), ('Nationalite', 'Tchadien'), ('Representante', 'Oui'), ('PartyType', 'Personne physique'), ('EtatCivil', 'Marié'), ('LandRight', \"Droit d'occupation\"), ('RightSource', 'Achat'), ('ShareFraction', '100'), ('Statut', \"N'existe pas dans la base de donnees\"), ('SpatialID', '28'), ('DataCollector', 'Fakadi solange '), ('Methodologie', 'Participatory Mapping'), ('LandUse', 'Residentiel'), ('Conflit', 'Non'), ('meta-instanceID', 'uuid:c95dcf1f-4f0d-493c-812d-26e4e644f196'), ('KEY', 'uuid:c95dcf1f-4f0d-493c-812d-26e4e644f196'), ('SubmitterID', '57'), ('SubmitterName', 'Kaspar'), ('AttachmentsPresent', '0'), ('AttachmentsExpected', '0'), ('Status', ''), ('ReviewState', ''), ('DeviceID', 'collect:a1SYvjTJaxR3mkvg'), ('Edits', None)])\n"
          ]
        }
      ],
      "source": [
        "import random \n",
        "\n",
        "# Extract information from the ODK data\n",
        "from analyser_2023_02 import retrieve_odk_administrative_data, get_token\n",
        "\n",
        "odk_data = retrieve_odk_administrative_data (url_get, get_token(url_post, credentials), saving_path)\n",
        "\n",
        "print(\"Number of attribute data collected: \", len(odk_data))\n",
        "print(\"Printing now an example of attribute data...\")\n",
        "print(random.choice(odk_data))"
      ]
    }
  ],
  "metadata": {
    "colab": {
      "provenance": [],
      "include_colab_link": true
    },
    "kernelspec": {
      "display_name": "Python 3",
      "name": "python3"
    },
    "language_info": {
      "name": "python"
    }
  },
  "nbformat": 4,
  "nbformat_minor": 0
}